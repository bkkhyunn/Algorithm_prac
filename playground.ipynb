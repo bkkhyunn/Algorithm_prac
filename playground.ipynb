{
 "cells": [
  {
   "cell_type": "code",
   "execution_count": null,
   "metadata": {},
   "outputs": [
    {
     "name": "stdout",
     "output_type": "stream",
     "text": [
      "time:  1.3828277587890625e-05\n"
     ]
    }
   ],
   "source": [
    "import time\n",
    "\n",
    "start_time = time.time() # 측정 시작\n",
    "\n",
    "# 알고리즘\n",
    "\n",
    "end_time = time.time() # 측정 종료\n",
    "\n",
    "print(\"time: \", end_time - start_time) # 수행시간 출력"
   ]
  },
  {
   "cell_type": "code",
   "execution_count": null,
   "metadata": {},
   "outputs": [
    {
     "name": "stdout",
     "output_type": "stream",
     "text": [
      "순열 : [(1, 2), (1, 3), (2, 1), (2, 3), (3, 1), (3, 2)]\n",
      "조합 : [(1, 2), (1, 3), (2, 3)]\n",
      "중복순열 : [(1, 1), (1, 2), (1, 3), (2, 1), (2, 2), (2, 3), (3, 1), (3, 2), (3, 3)]\n",
      "중복조합 : [(1, 1), (1, 2), (1, 3), (2, 2), (2, 3), (3, 3)]\n"
     ]
    }
   ],
   "source": [
    "from itertools import permutations, combinations, product, combinations_with_replacement\n",
    "\n",
    "data = [1,2,3]\n",
    "\n",
    "p_data = list(permutations(data, 2))\n",
    "c_data = list(combinations(data, 2))\n",
    "product_data = list(product(data, repeat=2))\n",
    "cwr_data = list(combinations_with_replacement(data, 2))\n",
    "\n",
    "for n, d in zip(['순열', '조합', '중복순열', '중복조합'],[p_data, c_data, product_data, cwr_data]):\n",
    "    print(f'{n} : {d}')"
   ]
  },
  {
   "cell_type": "code",
   "execution_count": null,
   "metadata": {},
   "outputs": [],
   "source": [
    "from collections import Counter, deque, defaultdict"
   ]
  },
  {
   "cell_type": "code",
   "execution_count": null,
   "metadata": {},
   "outputs": [
    {
     "name": "stdout",
     "output_type": "stream",
     "text": [
      "6\n"
     ]
    }
   ],
   "source": [
    "def gcd(a, b):\n",
    "    if a % b == 0:\n",
    "        return b\n",
    "    else:\n",
    "        return gcd(b, a % b)\n",
    "\n",
    "print(gcd(192, 162))"
   ]
  },
  {
   "cell_type": "code",
   "execution_count": null,
   "metadata": {},
   "outputs": [
    {
     "name": "stdout",
     "output_type": "stream",
     "text": [
      "6\n"
     ]
    }
   ],
   "source": [
    "print(gcd(162, 192))"
   ]
  },
  {
   "cell_type": "code",
   "execution_count": null,
   "metadata": {},
   "outputs": [
    {
     "name": "stdout",
     "output_type": "stream",
     "text": [
      "1 2 7 6 8 3 4 5 "
     ]
    }
   ],
   "source": [
    "def dfs(graph, v, visited):\n",
    "    visited[v] = True\n",
    "    print(v, end=' ')\n",
    "    \n",
    "    for i in graph[v]:\n",
    "        if not visited[i]:\n",
    "            dfs(graph, i, visited)\n",
    "\n",
    "graph = [\n",
    "    [],\n",
    "    [2,3,8],\n",
    "    [1,7],\n",
    "    [1,4,5],\n",
    "    [3,5],\n",
    "    [3,4],\n",
    "    [7],\n",
    "    [2,6,8],\n",
    "    [1,7]\n",
    "]\n",
    "\n",
    "visited = [False] * 9\n",
    "\n",
    "dfs(graph, 1, visited)"
   ]
  },
  {
   "cell_type": "code",
   "execution_count": null,
   "metadata": {},
   "outputs": [
    {
     "name": "stdout",
     "output_type": "stream",
     "text": [
      "1 2 3 8 7 4 5 6 "
     ]
    }
   ],
   "source": [
    "from collections import deque\n",
    "\n",
    "def bfs(graph, start, visited):\n",
    "    queue = deque([start])\n",
    "    visited[start] = True\n",
    "    \n",
    "    while queue:\n",
    "        v = queue.popleft()\n",
    "        print(v, end=' ')\n",
    "        \n",
    "        for i in graph[v]:\n",
    "            if not visited[i]:\n",
    "                queue.append(i)\n",
    "                visited[i] = True\n",
    "\n",
    "graph = [\n",
    "    [],\n",
    "    [2,3,8],\n",
    "    [1,7],\n",
    "    [1,4,5],\n",
    "    [3,5],\n",
    "    [3,4],\n",
    "    [7],\n",
    "    [2,6,8],\n",
    "    [1,7]\n",
    "]\n",
    "\n",
    "# 각 노드가 방문된 정보를 표현(1차원 리스트)\n",
    "visited = [False] * 9\n",
    "\n",
    "bfs(graph, 1, visited)"
   ]
  },
  {
   "cell_type": "code",
   "execution_count": null,
   "metadata": {},
   "outputs": [],
   "source": [
    "# 어피치보다 라이언이 1발 더 많이 맞추거나 아예 안 맞추거나\n",
    "\n",
    "def solution(n, info):\n",
    "    answer = [-1]\n",
    "    a_info = info\n",
    "    l_info = [0] * len(info)\n",
    "    gap = 0\n",
    "    \n",
    "    def calc_score(a_info, l_info):\n",
    "        # 어피치, 라이언 총 점수\n",
    "        a_score = 0\n",
    "        l_score = 0\n",
    "        \n",
    "        for i in range(len(a_info)):\n",
    "            if a_info[i] > 0 or l_info[i] > 0:\n",
    "                if a_info[i] >= l_info[i]:\n",
    "                    a_score += (10-i)\n",
    "                else:\n",
    "                    l_score += (10-i)\n",
    "        return (l_score > a_score, l_score - a_score)\n",
    "    \n",
    "    def dfs(idx, cnt):\n",
    "        nonlocal answer, a_info, l_info, gap\n",
    "        \n",
    "        if cnt == 0 or idx == 10:\n",
    "            result = calc_score(a_info, l_info)\n",
    "            # 라이언이 어피치보다 점수가 높을 때\n",
    "            if result[0]:\n",
    "                \n",
    "                # 화살이 남은 경우, 0점에 다 쏴도 이긴다.\n",
    "                if cnt >= 0:\n",
    "                    l_info[10] = cnt\n",
    "                    \n",
    "                if result[1] > gap:\n",
    "                    gap = result[1]\n",
    "                    answer = l_info.copy()\n",
    "                \n",
    "                elif result[1] == gap:\n",
    "                    for i in range(len(l_info)):\n",
    "                        if l_info[10-i] > answer[10-i]:\n",
    "                            answer = l_info.copy()\n",
    "                            break\n",
    "            return\n",
    "        \n",
    "        # 어피치보다 1개 더 많이 맞추거나, 아예 안 맞추거나\n",
    "        if cnt > a_info[idx]:\n",
    "            # 1개 더 많이 맞춘 걸로 진행\n",
    "            l_info[idx] = a_info[idx]+1\n",
    "            dfs(idx+1, cnt-(a_info[idx]+1))\n",
    "            \n",
    "        # 아예 안 맞추는 걸로 진행\n",
    "        l_info[idx] = 0\n",
    "        dfs(idx+1, cnt)\n",
    "        \n",
    "    dfs(0, n)\n",
    "    \n",
    "    return answer"
   ]
  }
 ],
 "metadata": {
  "language_info": {
   "name": "python"
  }
 },
 "nbformat": 4,
 "nbformat_minor": 2
}
